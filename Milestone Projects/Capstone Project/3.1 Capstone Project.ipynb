{
 "cells": [
  {
   "cell_type": "markdown",
   "metadata": {},
   "source": [
    "# Capstone Project"
   ]
  },
  {
   "cell_type": "markdown",
   "metadata": {},
   "source": [
    "## Sorting\n",
    "Implement two types of sorting algorithms: Merge sort and bubble sort"
   ]
  },
  {
   "cell_type": "markdown",
   "metadata": {},
   "source": [
    "### Merge Sort"
   ]
  },
  {
   "cell_type": "code",
   "execution_count": 171,
   "metadata": {},
   "outputs": [],
   "source": [
    "def mergeSort(toSort):\n",
    "    if len(toSort) <= 1:\n",
    "        return toSort\n",
    "    \n",
    "    left = []\n",
    "    right = []\n",
    "    for i, x in enumerate(toSort):\n",
    "        if i < len(toSort)/2:\n",
    "            left.append(x)\n",
    "        else:\n",
    "            right.append(x)\n",
    "    \n",
    "    left = mergeSort(left)\n",
    "    right = mergeSort(right)\n",
    "    return merge(left, right)\n",
    "\n",
    "def merge(left, right):\n",
    "    result = []\n",
    "    while len(left) != 0 and len(right) != 0:\n",
    "        if left[0] <= right[0]:\n",
    "            result.append(left[0])\n",
    "            left = left[1::]\n",
    "        else:\n",
    "            result.append(right[0])\n",
    "            right = right[1::]\n",
    "    while len(left) != 0:\n",
    "        result.append(left[0])\n",
    "        left = left[1::]\n",
    "    while len(right) != 0:\n",
    "        result.append(right[0])\n",
    "        right = right[1::]\n",
    "    return result"
   ]
  },
  {
   "cell_type": "code",
   "execution_count": 173,
   "metadata": {},
   "outputs": [
    {
     "data": {
      "text/plain": [
       "[5, 6, 7, 8, 9]"
      ]
     },
     "execution_count": 173,
     "metadata": {},
     "output_type": "execute_result"
    }
   ],
   "source": [
    "unsortedList = [9, 8, 7, 6, 5]\n",
    "mergeSort(unsortedList)"
   ]
  },
  {
   "cell_type": "markdown",
   "metadata": {},
   "source": [
    "### Bubble Sort"
   ]
  },
  {
   "cell_type": "code",
   "execution_count": 109,
   "metadata": {},
   "outputs": [],
   "source": [
    "def bubbleSort(toSort):\n",
    "    unsorted = True\n",
    "    lengthToSearch = len(toSort)\n",
    "    while unsorted:\n",
    "        swapped = False\n",
    "        for i in range(1, lengthToSearch):\n",
    "            if toSort[i -1] > toSort[i]:\n",
    "                toSort[i -1], toSort[i] = (toSort[i], toSort[i -1])\n",
    "                swapped = True\n",
    "        if swapped == False:\n",
    "            break\n",
    "        lengthToSearch -= 1\n",
    "    return toSort"
   ]
  },
  {
   "cell_type": "code",
   "execution_count": 174,
   "metadata": {},
   "outputs": [
    {
     "data": {
      "text/plain": [
       "[5, 6, 7, 8, 9]"
      ]
     },
     "execution_count": 174,
     "metadata": {},
     "output_type": "execute_result"
    }
   ],
   "source": [
    "unsortedList = [9, 8, 7, 6, 5]\n",
    "bubbleSort(unsortedList)"
   ]
  },
  {
   "cell_type": "code",
   "execution_count": null,
   "metadata": {},
   "outputs": [],
   "source": []
  }
 ],
 "metadata": {
  "kernelspec": {
   "display_name": "Python 3",
   "language": "python",
   "name": "python3"
  },
  "language_info": {
   "codemirror_mode": {
    "name": "ipython",
    "version": 3
   },
   "file_extension": ".py",
   "mimetype": "text/x-python",
   "name": "python",
   "nbconvert_exporter": "python",
   "pygments_lexer": "ipython3",
   "version": "3.8.5"
  }
 },
 "nbformat": 4,
 "nbformat_minor": 4
}
