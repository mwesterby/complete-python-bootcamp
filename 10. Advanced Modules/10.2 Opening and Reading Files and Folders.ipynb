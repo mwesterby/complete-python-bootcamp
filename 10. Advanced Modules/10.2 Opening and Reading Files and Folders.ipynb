{
 "cells": [
  {
   "cell_type": "markdown",
   "metadata": {},
   "source": [
    "# Opening and Reading Files and Folders"
   ]
  },
  {
   "cell_type": "code",
   "execution_count": 1,
   "metadata": {},
   "outputs": [
    {
     "data": {
      "text/plain": [
       "'/Users/michael/GitHub/mwesterby/complete-python-bootcamp/10: Advanced Modules'"
      ]
     },
     "execution_count": 1,
     "metadata": {},
     "output_type": "execute_result"
    }
   ],
   "source": [
    "pwd"
   ]
  },
  {
   "cell_type": "code",
   "execution_count": 2,
   "metadata": {},
   "outputs": [],
   "source": [
    "f = open('practice.txt', 'w+') # Mode is w+ as we want to be able to write to this file"
   ]
  },
  {
   "cell_type": "code",
   "execution_count": 3,
   "metadata": {},
   "outputs": [
    {
     "data": {
      "text/plain": [
       "21"
      ]
     },
     "execution_count": 3,
     "metadata": {},
     "output_type": "execute_result"
    }
   ],
   "source": [
    "f.write('This is a test string')"
   ]
  },
  {
   "cell_type": "code",
   "execution_count": 4,
   "metadata": {},
   "outputs": [],
   "source": [
    "f.close()"
   ]
  },
  {
   "cell_type": "markdown",
   "metadata": {},
   "source": [
    "### OS Module"
   ]
  },
  {
   "cell_type": "code",
   "execution_count": 5,
   "metadata": {},
   "outputs": [],
   "source": [
    "import os"
   ]
  },
  {
   "cell_type": "code",
   "execution_count": 6,
   "metadata": {},
   "outputs": [
    {
     "data": {
      "text/plain": [
       "'/Users/michael/GitHub/mwesterby/complete-python-bootcamp/10: Advanced Modules'"
      ]
     },
     "execution_count": 6,
     "metadata": {},
     "output_type": "execute_result"
    }
   ],
   "source": [
    "os.getcwd()"
   ]
  },
  {
   "cell_type": "code",
   "execution_count": 7,
   "metadata": {},
   "outputs": [
    {
     "data": {
      "text/plain": [
       "['10.1 Collections Module.ipynb',\n",
       " 'practice.txt',\n",
       " '10.2 Opening and Reading Files and Folders.ipynb',\n",
       " '.ipynb_checkpoints']"
      ]
     },
     "execution_count": 7,
     "metadata": {},
     "output_type": "execute_result"
    }
   ],
   "source": [
    "os.listdir()"
   ]
  },
  {
   "cell_type": "code",
   "execution_count": 8,
   "metadata": {},
   "outputs": [
    {
     "data": {
      "text/plain": [
       "['06: Modules and Packages',\n",
       " '02: Comparison Operators',\n",
       " '.DS_Store',\n",
       " '08: Decorators',\n",
       " '07: Errors and Exception Handling',\n",
       " '03: Statements',\n",
       " 'Setup',\n",
       " 'Milestone Projects',\n",
       " '09: Generators',\n",
       " 'README.md',\n",
       " '04: Methods and Functions',\n",
       " '.gitignore',\n",
       " '10: Advanced Modules',\n",
       " '.ipynb_checkpoints',\n",
       " '05: Object Oriented Programming',\n",
       " '.git',\n",
       " '01: Objects and Data Structure Basics']"
      ]
     },
     "execution_count": 8,
     "metadata": {},
     "output_type": "execute_result"
    }
   ],
   "source": [
    "os.listdir('/Users/michael/GitHub/mwesterby/complete-python-bootcamp')"
   ]
  },
  {
   "cell_type": "markdown",
   "metadata": {},
   "source": [
    "`os.listdir` can take in the argument of a path and it will list all the items there"
   ]
  },
  {
   "cell_type": "markdown",
   "metadata": {},
   "source": [
    "### Moving Files"
   ]
  },
  {
   "cell_type": "code",
   "execution_count": 9,
   "metadata": {},
   "outputs": [],
   "source": [
    "import shutil"
   ]
  },
  {
   "cell_type": "code",
   "execution_count": 10,
   "metadata": {},
   "outputs": [
    {
     "data": {
      "text/plain": [
       "'/Users/michael/practice.txt'"
      ]
     },
     "execution_count": 10,
     "metadata": {},
     "output_type": "execute_result"
    }
   ],
   "source": [
    "shutil.move('practice.txt', '/Users/michael')"
   ]
  },
  {
   "cell_type": "markdown",
   "metadata": {},
   "source": [
    "`practice.txt` has been moved from the cwd to `/Users/michael`"
   ]
  },
  {
   "cell_type": "markdown",
   "metadata": {},
   "source": [
    "### Deleting Files"
   ]
  },
  {
   "cell_type": "code",
   "execution_count": 11,
   "metadata": {},
   "outputs": [],
   "source": [
    "import send2trash"
   ]
  },
  {
   "cell_type": "code",
   "execution_count": 12,
   "metadata": {},
   "outputs": [
    {
     "data": {
      "text/plain": [
       "['10.1 Collections Module.ipynb',\n",
       " '10.2 Opening and Reading Files and Folders.ipynb',\n",
       " '.ipynb_checkpoints']"
      ]
     },
     "execution_count": 12,
     "metadata": {},
     "output_type": "execute_result"
    }
   ],
   "source": [
    "os.listdir()"
   ]
  },
  {
   "cell_type": "code",
   "execution_count": 13,
   "metadata": {},
   "outputs": [
    {
     "data": {
      "text/plain": [
       "'/Users/michael/GitHub/mwesterby/complete-python-bootcamp/10: Advanced Modules/practice.txt'"
      ]
     },
     "execution_count": 13,
     "metadata": {},
     "output_type": "execute_result"
    }
   ],
   "source": [
    "shutil.move('/Users/michael/practice.txt', os.getcwd())"
   ]
  },
  {
   "cell_type": "code",
   "execution_count": 14,
   "metadata": {},
   "outputs": [
    {
     "data": {
      "text/plain": [
       "['10.1 Collections Module.ipynb',\n",
       " 'practice.txt',\n",
       " '10.2 Opening and Reading Files and Folders.ipynb',\n",
       " '.ipynb_checkpoints']"
      ]
     },
     "execution_count": 14,
     "metadata": {},
     "output_type": "execute_result"
    }
   ],
   "source": [
    "os.listdir()"
   ]
  },
  {
   "cell_type": "markdown",
   "metadata": {},
   "source": [
    "Moved `practice.txt` back to cwd"
   ]
  },
  {
   "cell_type": "code",
   "execution_count": 15,
   "metadata": {},
   "outputs": [],
   "source": [
    "send2trash.send2trash('practice.txt')"
   ]
  },
  {
   "cell_type": "code",
   "execution_count": 16,
   "metadata": {},
   "outputs": [
    {
     "data": {
      "text/plain": [
       "['10.1 Collections Module.ipynb',\n",
       " '10.2 Opening and Reading Files and Folders.ipynb',\n",
       " '.ipynb_checkpoints']"
      ]
     },
     "execution_count": 16,
     "metadata": {},
     "output_type": "execute_result"
    }
   ],
   "source": [
    "os.listdir()"
   ]
  },
  {
   "cell_type": "markdown",
   "metadata": {},
   "source": [
    "`practice.txt` has been sent to the trash"
   ]
  },
  {
   "cell_type": "markdown",
   "metadata": {},
   "source": [
    "### Looking in Directories"
   ]
  },
  {
   "cell_type": "code",
   "execution_count": 17,
   "metadata": {},
   "outputs": [
    {
     "data": {
      "text/plain": [
       "'/Users/michael/GitHub/mwesterby/complete-python-bootcamp/10: Advanced Modules'"
      ]
     },
     "execution_count": 17,
     "metadata": {},
     "output_type": "execute_result"
    }
   ],
   "source": [
    "os.getcwd()"
   ]
  },
  {
   "cell_type": "code",
   "execution_count": 20,
   "metadata": {},
   "outputs": [
    {
     "name": "stdout",
     "output_type": "stream",
     "text": [
      "Currently looking at /Users/michael/GitHub/mwesterby/complete-python-bootcamp/10: Advanced Modules/Example_Top_Level\n",
      "\n",
      "\n",
      "The sub directories are: \n",
      "\tSubfolder: Mid-Example-One\n",
      "\n",
      "\n",
      "The file are: \n",
      "\tFile: Mid-Example.txt\n",
      "\n",
      "\n",
      "Currently looking at /Users/michael/GitHub/mwesterby/complete-python-bootcamp/10: Advanced Modules/Example_Top_Level/Mid-Example-One\n",
      "\n",
      "\n",
      "The sub directories are: \n",
      "\tSubfolder: Bottom-Level-Two\n",
      "\tSubfolder: Bottom-Level-One\n",
      "\n",
      "\n",
      "The file are: \n",
      "\tFile: Mid-Level-Doc.txt\n",
      "\n",
      "\n",
      "Currently looking at /Users/michael/GitHub/mwesterby/complete-python-bootcamp/10: Advanced Modules/Example_Top_Level/Mid-Example-One/Bottom-Level-Two\n",
      "\n",
      "\n",
      "The sub directories are: \n",
      "\n",
      "\n",
      "The file are: \n",
      "\tFile: Bottom-Text-Two.txt\n",
      "\n",
      "\n",
      "Currently looking at /Users/michael/GitHub/mwesterby/complete-python-bootcamp/10: Advanced Modules/Example_Top_Level/Mid-Example-One/Bottom-Level-One\n",
      "\n",
      "\n",
      "The sub directories are: \n",
      "\n",
      "\n",
      "The file are: \n",
      "\tFile: One_Text.txt\n",
      "\n",
      "\n"
     ]
    }
   ],
   "source": [
    "file_path = '/Users/michael/GitHub/mwesterby/complete-python-bootcamp/10: Advanced Modules/Example_Top_Level'\n",
    "for folder, sub_folders, files in os.walk(file_path): # Tuple unpacking\n",
    "    print(f\"Currently looking at {folder}\")\n",
    "    print(\"\\n\")\n",
    "    print(\"The sub directories are: \")\n",
    "    for sub_fold in sub_folders:\n",
    "        print(f\"\\tSubfolder: {sub_fold}\")\n",
    "    \n",
    "    print(\"\\n\")\n",
    "    print(\"The file are: \")\n",
    "    for file in files:\n",
    "        print(f\"\\tFile: {file}\")\n",
    "    print(\"\\n\")"
   ]
  },
  {
   "cell_type": "code",
   "execution_count": null,
   "metadata": {},
   "outputs": [],
   "source": []
  }
 ],
 "metadata": {
  "kernelspec": {
   "display_name": "Python 3",
   "language": "python",
   "name": "python3"
  },
  "language_info": {
   "codemirror_mode": {
    "name": "ipython",
    "version": 3
   },
   "file_extension": ".py",
   "mimetype": "text/x-python",
   "name": "python",
   "nbconvert_exporter": "python",
   "pygments_lexer": "ipython3",
   "version": "3.8.5"
  }
 },
 "nbformat": 4,
 "nbformat_minor": 4
}
